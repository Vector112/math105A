{
 "cells": [
  {
   "cell_type": "code",
   "execution_count": 1,
   "metadata": {
    "collapsed": true
   },
   "outputs": [],
   "source": [
    "# Student ID: XXXXXXXX (replace with your student ID)"
   ]
  },
  {
   "cell_type": "markdown",
   "metadata": {},
   "source": [
    "# Math105A homework\n",
    "\n",
    "Please do the following (non-graded) homework taken from the Text in preparation for a (graded) quiz on Thursday. \n",
    "\n",
    "Fixed Point Iteration: Section 2.2: 3, 7, 11a\n",
    "\n",
    "Newton's Method: Section 2.3: 1, 15\n",
    "\n",
    "# Math105LA computer assignment\n",
    "\n",
    "Please fill the remainder of this notebook with your code (remove `pass` after \"# your code here\"), execute all cells, save the notebook on your machine, and upload the notebook only (i.e. not any other files) to the [Math105LA Assign02 Dropbox](https://eee.uci.edu/toolbox/dropbox/) by the deadline indicated in the Dropbox. A primer on Dropbox is [here](https://eee.uci.edu/help/dropbox/instructors/_assets/dropbox_primer.pdf).\n",
    "\n"
   ]
  },
  {
   "cell_type": "markdown",
   "metadata": {},
   "source": [
    "### Problem 1 \n",
    "\n",
    "Write a function `fixedpoint` that uses fixed-point iteration to compute the fixed point $p$ of a function $g(x)$ using $p_0$ as an initial guess. \n",
    "\n",
    "The function `fixedpoint` should compute a number $p^*$ that approximates $p$ to an accuracy given by\n",
    "\n",
    "$$ \\frac{|p^* - p|}{|p|} < 10^{-3}.$$ \n",
    "\n",
    "The number on the right-hand side of the inequality is called the tolerance. \n",
    "\n",
    "`fixedpoint` should use no more than $N_{max}$ iterations. In other words, if the above accuracy cannot be achieved within $N_{max}$ iterations, then `fixedpoint` should stop and print out this fact. "
   ]
  },
  {
   "cell_type": "code",
   "execution_count": 2,
   "metadata": {
    "collapsed": true
   },
   "outputs": [],
   "source": [
    "def fixedpoint(g, p0, TOL, Nmax): \n",
    "    # INPUT: a function g, initial guess p0, error tolerance TOL,\n",
    "    # and maximum number of interations Nmax\n",
    "    # OUTPUT:  An approximate fixed point p, or message of failure\n",
    "\n",
    "    # your code here\n",
    "    pass "
   ]
  },
  {
   "cell_type": "markdown",
   "metadata": {},
   "source": [
    "Use your function to approximate $\\sqrt{2}$ to the numerical accuracy indicated above by using $g(x) = x/2 + a/x$ and choosing $a$ appropriately. Demonstrate, using code output and verbal descriptions (in Markdown and/or comments), that decreasing the tolerance gives better accuracy.\n",
    "\n",
    "\n"
   ]
  },
  {
   "cell_type": "code",
   "execution_count": null,
   "metadata": {
    "collapsed": true
   },
   "outputs": [],
   "source": []
  }
 ],
 "metadata": {
  "kernelspec": {
   "display_name": "Python 3",
   "language": "python",
   "name": "python3"
  },
  "language_info": {
   "codemirror_mode": {
    "name": "ipython",
    "version": 3
   },
   "file_extension": ".py",
   "mimetype": "text/x-python",
   "name": "python",
   "nbconvert_exporter": "python",
   "pygments_lexer": "ipython3",
   "version": "3.6.1"
  }
 },
 "nbformat": 4,
 "nbformat_minor": 2
}
