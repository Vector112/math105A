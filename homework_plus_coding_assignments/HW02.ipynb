{
 "cells": [
  {
   "cell_type": "code",
   "execution_count": 1,
   "metadata": {
    "collapsed": true
   },
   "outputs": [],
   "source": [
    "# Student ID: XXXXXXXX (replace with your student ID)"
   ]
  },
  {
   "cell_type": "markdown",
   "metadata": {},
   "source": [
    "# Math105A homework\n",
    "\n",
    "Please do the following (non-graded) homework taken from the Text in preparation for a (graded) quiz on Thursday. \n",
    "\n",
    "Fixed Point Iteration: Section 2.2: 3, 7, 11a\n",
    "\n",
    "Newton's Method: Section 2.3: 1, 15\n",
    "\n",
    "# Math105LA computer assignment\n",
    "\n",
    "Please fill the remainder of this notebook with your code (remove `pass` after \"# your code here\"), execute all cells, save the notebook on your machine, and upload the notebook only (i.e. not any other files) to the [Math105LA Assign02 Dropbox](https://eee.uci.edu/toolbox/dropbox/) by the deadline indicated in the Dropbox. A primer on Dropbox is [here](https://eee.uci.edu/help/dropbox/instructors/_assets/dropbox_primer.pdf).\n",
    "\n"
   ]
  },
  {
   "cell_type": "markdown",
   "metadata": {},
   "source": [
    "### Problem 1 \n",
    "\n",
    "Write a function `fixedpoint` that uses fixed-point iteration to compute the fixed point $p$ of a function $g(x)$ using $p_0$ as an initial guess. \n",
    "\n",
    "The function `fixedpoint` should compute a number $p^*$ that approximates $p$ to an accuracy given by\n",
    "\n",
    "$$ \\frac{|p^* - p|}{|p|} < 10^{-3}.$$ \n",
    "\n",
    "Since you don't know $p$ in advance, you cannot use this stopping criterion in your code, but you can use: \n",
    "\n",
    "$$ \\frac{|p_{n+1} - p_n|}{|p_n|} < 10^{-3},$$ \n",
    "\n",
    "which should accomplish the same thing. The number on the right-hand side of the inequality is called the tolerance. \n",
    "\n",
    "`fixedpoint` should use no more than $N_{max}$ iterations. In other words, if the above accuracy cannot be achieved within $N_{max}$ iterations, then `fixedpoint` should stop and print out this fact. "
   ]
  },
  {
   "cell_type": "code",
   "execution_count": 2,
   "metadata": {
    "collapsed": true
   },
   "outputs": [],
   "source": [
    "def fixedpoint(g, p0, TOL, Nmax): \n",
    "    # INPUT: a function g, initial guess p0, error tolerance TOL,\n",
    "    # and maximum number of interations Nmax\n",
    "    # OUTPUT:  An approximate fixed point p, or message of failure\n",
    "\n",
    "    # your code here\n",
    "    pass "
   ]
  },
  {
   "cell_type": "markdown",
   "metadata": {},
   "source": [
    "Use your function to approximate $\\sqrt{2}$ to the numerical accuracy indicated above by using $g(x) = x/2 + a/x$ and choosing $a$ appropriately. Demonstrate, using code output and verbal descriptions (in Markdown and/or comments), that decreasing the tolerance gives better accuracy.\n",
    "\n",
    "### Note\n",
    "In Python 2 (but not Python 3), you'll need to be careful about implementing division in $g(x)$: "
   ]
  },
  {
   "cell_type": "code",
   "execution_count": 6,
   "metadata": {},
   "outputs": [
    {
     "data": {
      "text/plain": [
       "2"
      ]
     },
     "execution_count": 6,
     "metadata": {},
     "output_type": "execute_result"
    }
   ],
   "source": [
    "# when the operands are integers, Python 2 interprets '/' \n",
    "# as integer division, producing a quotient:\n",
    "8/3"
   ]
  },
  {
   "cell_type": "code",
   "execution_count": 9,
   "metadata": {},
   "outputs": [
    {
     "name": "stdout",
     "output_type": "stream",
     "text": [
      "0.5\n",
      "0.5\n"
     ]
    }
   ],
   "source": [
    "# you can force Python 2 to interpret '/'\n",
    "# as floating-point division by doing one of these:\n",
    "print 1/float(2)\n",
    "print 1/2.0"
   ]
  }
 ],
 "metadata": {
  "kernelspec": {
   "display_name": "Python 2",
   "language": "python",
   "name": "python2"
  },
  "language_info": {
   "codemirror_mode": {
    "name": "ipython",
    "version": 2
   },
   "file_extension": ".py",
   "mimetype": "text/x-python",
   "name": "python",
   "nbconvert_exporter": "python",
   "pygments_lexer": "ipython2",
   "version": "2.7.14"
  }
 },
 "nbformat": 4,
 "nbformat_minor": 2
}
