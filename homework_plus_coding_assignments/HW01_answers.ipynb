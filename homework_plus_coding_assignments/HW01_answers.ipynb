{
 "cells": [
  {
   "cell_type": "markdown",
   "metadata": {},
   "source": [
    "# Math105A homework\n",
    "\n",
    "Please do the following (non-graded) homework taken from the Text in preparation for a (graded) quiz on Thursday 10/12. \n",
    "\n",
    "Round-off error: Section 1.2: 2c, 3d, 12\n",
    "\n",
    "Bisection method: Section 2.1: 3a, 5b, 11c, 14\n",
    "\n",
    "# Math105LA computer assignment\n",
    "\n",
    "Please fill the remainder of this notebook with your code (remove `pass` after \"# your code here\"), execute all cells, save the notebook on your machine, and upload the notebook only (i.e. not any other files in this archive) to the [Math105LA Assign01 Dropbox](https://eee.uci.edu/toolbox/dropbox/) by the deadline indicated in the Dropbox. A primer on Dropbox is [here](https://eee.uci.edu/help/dropbox/instructors/_assets/dropbox_primer.pdf).\n",
    "\n"
   ]
  },
  {
   "cell_type": "markdown",
   "metadata": {},
   "source": [
    "### Problem 1\n",
    "\n",
    "Consider the function \n",
    "\n",
    "$$ f(x) = \\frac{1}{4} - \\frac{\\sin(4x)}{x}.$$"
   ]
  },
  {
   "cell_type": "code",
   "execution_count": 1,
   "metadata": {},
   "outputs": [
    {
     "data": {
      "text/plain": [
       "[<matplotlib.lines.Line2D at 0x112130890>]"
      ]
     },
     "execution_count": 1,
     "metadata": {},
     "output_type": "execute_result"
    },
    {
     "data": {
      "image/png": "[encoded data removed]",
      "text/plain": [
       "<matplotlib.figure.Figure at 0x11208f850>"
      ]
     },
     "metadata": {},
     "output_type": "display_data"
    }
   ],
   "source": [
    "import numpy as np \n",
    "f = lambda x: 0.25 - np.sin(4*x)/x\n",
    "g = lambda x: 0*x\n",
    "x = np.linspace(-6,6,100)\n",
    "\n",
    "from matplotlib import pyplot as plt\n",
    "%matplotlib inline\n",
    "plt.plot(x, f(x))\n",
    "plt.plot(x, g(x))"
   ]
  },
  {
   "cell_type": "markdown",
   "metadata": {},
   "source": [
    "In class we described how to use the bisection method to compute a root. The following are two implementations of the bisection method. "
   ]
  },
  {
   "cell_type": "code",
   "execution_count": 2,
   "metadata": {
    "collapsed": true
   },
   "outputs": [],
   "source": [
    "def different_sign(a, b):\n",
    "    return a * b < 0.0\n",
    "\n",
    "def bisection_core(func, low, high, n_max): \n",
    "    for i in range(n_max):\n",
    "        midpoint = (low + high) / 2.0\n",
    "        if different_sign(func(low), func(midpoint)):\n",
    "            high = midpoint\n",
    "        else:\n",
    "            low = midpoint\n",
    "    return midpoint\n",
    "    \n",
    "def bisection_v1(func, low, high, n_max):\n",
    "\n",
    "    if different_sign(func(low), func(high)):\n",
    "        return bisection_core(func, low, high, n_max)\n",
    "    else: \n",
    "        return None\n",
    "\n",
    "def bisection_v2(func, low, high, n_max):\n",
    "\n",
    "    assert different_sign(func(low), func(high))\n",
    "    \n",
    "    return bisection_core(func, low, high, n_max)"
   ]
  },
  {
   "cell_type": "markdown",
   "metadata": {},
   "source": [
    "Write a python function `multi_bisection` to compute all 10 roots of $f(x)$. "
   ]
  },
  {
   "cell_type": "code",
   "execution_count": 7,
   "metadata": {},
   "outputs": [
    {
     "name": "stdout",
     "output_type": "stream",
     "text": [
      "roots =  [-3.6410164707276547, -3.3949964664510857, -2.2098644955973947, -1.6790953589566251, -0.73894715476012962, 0.73894715476012962, 1.6790953589566251, 2.2098644955973947, 3.3949964664510857, 3.6410164707276547]\n",
      "\n",
      "max value of |f(roots)| =  3.88578058619e-16\n"
     ]
    }
   ],
   "source": [
    "def multi_bisection_core_v1(ps, func, low, high, n_max): \n",
    "    # this function alters the list ps,\n",
    "    # rather than just copying it to a local variable\n",
    "    \n",
    "    p = bisection_v1(func, low, high, n_max)\n",
    "    if p is not None:\n",
    "        ps += [p]   \n",
    "\n",
    "def multi_bisection_core_v2(ps, func, low, high, n_max): \n",
    "    # this function alters the list ps,\n",
    "    # rather than just copying it to a local variable\n",
    "    \n",
    "    if func(low)*func(high) < 0.0:\n",
    "        ps += [bisection_v2(func, low, high, n_max)]   \n",
    "\n",
    "def multi_bisection(func, grid, n_max): \n",
    "    '''\n",
    "    input: \n",
    "        func = function whose roots we want to compute\n",
    "        grid = numpy array containing a grid of points spanning the interval containing roots\n",
    "        n_max = maximum number of iterations\n",
    "    output: \n",
    "        returns a python list whose elements are the roots we want to compute\n",
    "        '''\n",
    "    \n",
    "    ps = []\n",
    "    lowers = grid[:-1]\n",
    "    uppers = grid[1:]\n",
    "    for lower, upper in zip(lowers,uppers): \n",
    "#         multi_bisection_core_v1(ps, func, lower, upper, n_max)\n",
    "        multi_bisection_core_v2(ps, func, lower, upper, n_max)\n",
    "    return ps\n",
    "\n",
    "roots = multi_bisection(func=f, grid=x, n_max=100)\n",
    "print 'roots = ', roots\n",
    "print\n",
    "print 'max value of |f(roots)| = ', np.vectorize(f)(roots).max() if roots != None else None"
   ]
  },
  {
   "cell_type": "code",
   "execution_count": null,
   "metadata": {
    "collapsed": true
   },
   "outputs": [],
   "source": []
  }
 ],
 "metadata": {
  "kernelspec": {
   "display_name": "Python 2",
   "language": "python",
   "name": "python2"
  },
  "language_info": {
   "codemirror_mode": {
    "name": "ipython",
    "version": 2
   },
   "file_extension": ".py",
   "mimetype": "text/x-python",
   "name": "python",
   "nbconvert_exporter": "python",
   "pygments_lexer": "ipython2",
   "version": "2.7.14"
  }
 },
 "nbformat": 4,
 "nbformat_minor": 2
}
