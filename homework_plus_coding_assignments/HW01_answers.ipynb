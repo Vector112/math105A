{
 "cells": [
  {
   "cell_type": "markdown",
   "metadata": {},
   "source": [
    "# Math105A homework\n",
    "\n",
    "Please do the following (non-graded) homework taken from the Text in preparation for a (graded) quiz on Thursday 10/12. \n",
    "\n",
    "Round-off error: Section 1.2: 2c, 3d, 12\n",
    "\n",
    "Bisection method: Section 2.1: 3a, 5b, 11c, 14\n",
    "\n",
    "# Math105LA computer assignment\n",
    "\n",
    "Please fill the remainder of this notebook with your code (remove `pass` after \"# your code here\"), execute all cells, save the notebook on your machine, and upload the notebook only (i.e. not any other files in this archive) to the [Math105LA Assign01 Dropbox](https://eee.uci.edu/toolbox/dropbox/) by the deadline indicated in the Dropbox. A primer on Dropbox is [here](https://eee.uci.edu/help/dropbox/instructors/_assets/dropbox_primer.pdf).\n",
    "\n"
   ]
  },
  {
   "cell_type": "markdown",
   "metadata": {},
   "source": [
    "### Problem 1\n",
    "\n",
    "Consider the function \n",
    "\n",
    "$$ f(x) = \\frac{1}{4} - \\frac{\\sin(4x)}{x}.$$"
   ]
  },
  {
   "cell_type": "code",
   "execution_count": 1,
   "metadata": {},
   "outputs": [
    {
     "data": {
      "text/plain": [
       "[<matplotlib.lines.Line2D at 0x10f8d1a90>]"
      ]
     },
     "execution_count": 1,
     "metadata": {},
     "output_type": "execute_result"
    },
    {
     "data": {
      "image/png": "[encoded data removed]",
      "text/plain": [
       "<matplotlib.figure.Figure at 0x109418cd0>"
      ]
     },
     "metadata": {},
     "output_type": "display_data"
    }
   ],
   "source": [
    "import numpy as np \n",
    "f = lambda x: 0.25 - np.sin(4*x)/x\n",
    "g = lambda x: 0*x\n",
    "x = np.linspace(-6,6,100)\n",
    "\n",
    "from matplotlib import pyplot as plt\n",
    "%matplotlib inline\n",
    "plt.plot(x, f(x))\n",
    "plt.plot(x, g(x))"
   ]
  },
  {
   "cell_type": "markdown",
   "metadata": {},
   "source": [
    "Write a python function `multi_bisection` to compute all 10 roots of $f(x)$. "
   ]
  },
  {
   "cell_type": "code",
   "execution_count": 3,
   "metadata": {},
   "outputs": [
    {
     "name": "stdout",
     "output_type": "stream",
     "text": [
      "roots =  [-3.6410164707276547, -3.3949964664510857, -2.2098644955973947, -1.6790953589566251, -0.73894715476012962, 0.73894715476012962, 1.6790953589566251, 2.2098644955973947, 3.3949964664510857, 3.6410164707276547]\n",
      "\n",
      "max value of |f(roots)| =  3.88578058619e-16\n"
     ]
    }
   ],
   "source": [
    "from bisection import bisection\n",
    "\n",
    "def multi_bisection(func, grid, n_max): \n",
    "    '''\n",
    "    input: \n",
    "        func = function whose roots we want to compute\n",
    "        grid = numpy array containing a grid of points spanning the interval containing roots\n",
    "        n_max = maximum number of iterations\n",
    "    output: \n",
    "        returns a python list whose elements are the roots we want to compute\n",
    "        '''\n",
    "    \n",
    "    ps = []\n",
    "    lowers = grid[:-1]\n",
    "    uppers = grid[1:]\n",
    "    for lower, upper in zip(lowers,uppers): \n",
    "        if func(lower)*func(upper) < 0.0:\n",
    "            ps += [bisection(func, lower, upper, n_max)]   \n",
    "    return ps\n",
    "\n",
    "roots = multi_bisection(func=f, grid=x, n_max=100)\n",
    "print 'roots = ', roots\n",
    "print\n",
    "print 'max value of |f(roots)| = ', np.vectorize(f)(roots).max() if roots != None else None"
   ]
  },
  {
   "cell_type": "markdown",
   "metadata": {},
   "source": [
    "### Outline of solution \n",
    "\n",
    "* loop through consecutive pairs of elements of the array `x`\n",
    "* apply my function, `bisection`, to each such subinterval of [-6,6]\n",
    "* use a `list` to accumulate the roots you find in each subinterval\n",
    "\n",
    "### Code snippets you might find helpful:"
   ]
  },
  {
   "cell_type": "code",
   "execution_count": 3,
   "metadata": {},
   "outputs": [
    {
     "data": {
      "text/plain": [
       "[1, 2, 3]"
      ]
     },
     "execution_count": 3,
     "metadata": {},
     "output_type": "execute_result"
    }
   ],
   "source": [
    "a = [1,2,3,4]\n",
    "lowers = a[:-1]\n",
    "lowers"
   ]
  },
  {
   "cell_type": "code",
   "execution_count": 4,
   "metadata": {},
   "outputs": [
    {
     "data": {
      "text/plain": [
       "[2, 3, 4]"
      ]
     },
     "execution_count": 4,
     "metadata": {},
     "output_type": "execute_result"
    }
   ],
   "source": [
    "uppers = a[1:]\n",
    "uppers "
   ]
  },
  {
   "cell_type": "code",
   "execution_count": 5,
   "metadata": {},
   "outputs": [
    {
     "data": {
      "text/plain": [
       "[(1, 2), (2, 3), (3, 4)]"
      ]
     },
     "execution_count": 5,
     "metadata": {},
     "output_type": "execute_result"
    }
   ],
   "source": [
    "list_of_lower_upper_tuples = zip(a[:-1],a[1:])\n",
    "list_of_lower_upper_tuples"
   ]
  },
  {
   "cell_type": "code",
   "execution_count": 6,
   "metadata": {},
   "outputs": [
    {
     "name": "stdout",
     "output_type": "stream",
     "text": [
      "1 2\n",
      "2 3\n",
      "3 4\n"
     ]
    }
   ],
   "source": [
    "for lower, upper in zip(lowers,uppers): \n",
    "    print lower, upper"
   ]
  },
  {
   "cell_type": "code",
   "execution_count": 7,
   "metadata": {},
   "outputs": [
    {
     "data": {
      "text/plain": [
       "[10, 11, 12]"
      ]
     },
     "execution_count": 7,
     "metadata": {},
     "output_type": "execute_result"
    }
   ],
   "source": [
    "b = [10, 11]\n",
    "b += [12]\n",
    "b"
   ]
  }
 ],
 "metadata": {
  "kernelspec": {
   "display_name": "Python 3",
   "language": "python",
   "name": "python3"
  },
  "language_info": {
   "codemirror_mode": {
    "name": "ipython",
    "version": 3
   },
   "file_extension": ".py",
   "mimetype": "text/x-python",
   "name": "python",
   "nbconvert_exporter": "python",
   "pygments_lexer": "ipython3",
   "version": "3.6.1"
  }
 },
 "nbformat": 4,
 "nbformat_minor": 2
}
