{
 "cells": [
  {
   "cell_type": "markdown",
   "metadata": {
    "slideshow": {
     "slide_type": "slide"
    }
   },
   "source": [
    "### More on matrix products and inversion"
   ]
  },
  {
   "cell_type": "markdown",
   "metadata": {},
   "source": [
    "Recall that we gave the formula for matrix-vector products:"
   ]
  },
  {
   "cell_type": "markdown",
   "metadata": {},
   "source": [
    "#### Definition (matrix-vector multiplication)\n",
    "\n",
    "Let $A = (a_{ij})$ be an $n \\times m$ matrix and let $x$ be a $m \\times 1$ column vector.  The product $y = Ax$ is a $n \\times 1$ vector $y$ given by\n",
    "\n",
    "$$ y_i = \\sum_{j=1}^m a_{ij} x_j, \\quad 1 \\leq i \\leq n.$$"
   ]
  },
  {
   "cell_type": "markdown",
   "metadata": {
    "slideshow": {
     "slide_type": "slide"
    }
   },
   "source": [
    "#### Definition (matrix-matrix multiplication)\n",
    "\n",
    "Let $A = (a_{ij})$ be an $n \\times m$ matrix and let $B = (b_{jk})$ be and $m \\times p$ matrix.  The product $C = AB$, $C = (c_{ik})$ is given by\n",
    "\n",
    "$$ c_{ik} = \\sum_{j=1}^m a_{ij} b_{jk}.$$"
   ]
  },
  {
   "cell_type": "markdown",
   "metadata": {},
   "source": [
    "The easiest way to remember this formula is:\n",
    "\n",
    "$$ C =AB =  [ Ab_1, A b_2, \\ldots, Ab_p ]$$\n",
    "\n",
    "where $b_k$ is the $k$th column of $b$.  "
   ]
  },
  {
   "cell_type": "markdown",
   "metadata": {
    "slideshow": {
     "slide_type": "slide"
    }
   },
   "source": [
    "This has to be the case because of the rules of matrix multiplication:\n",
    "\n",
    "* Associative $A(BC) = (AB)C$\n",
    "* Distributive $A(B+D) = AB + AD$\n",
    "* Scalar multiplication $\\lambda AB = (\\lambda A) B = A(\\lambda B)$\n",
    "\n",
    "So $$B = [b_1,0,0,0,\\ldots,0] + [0,b_2,0,0,\\ldots 0] + [0,0,b_3,0,\\ldots 0] + \\cdots$$\n",
    "\n",
    "and (check this!)\n",
    "\n",
    "$$AB = [Ab_1,0,0,0,\\ldots,0] + [0,Ab_2,0,0,\\ldots 0] + [0,0,Ab_3,0,\\ldots 0] + \\cdots\\\\\n",
    "= [ Ab_1, A b_2, \\ldots, Ab_p ]$$\n"
   ]
  },
  {
   "cell_type": "markdown",
   "metadata": {
    "slideshow": {
     "slide_type": "slide"
    }
   },
   "source": [
    "#### Matrix/vector transpose\n",
    "\n",
    "If $$A = (a_{ij})_{1\\leq i \\leq n, 1 \\leq j \\leq m}$$ is an $n \\times m$ matrix then $$A^T = (a'_{ij})_{1 \\leq i \\leq m, 1 \\leq j \\leq n}$$ is an $m \\times n$ matrix with\n",
    "\n",
    "$$ a'_{ij} = a_{ji}.$$"
   ]
  },
  {
   "cell_type": "markdown",
   "metadata": {
    "slideshow": {
     "slide_type": "slide"
    }
   },
   "source": [
    "#### Properties of the transpose\n",
    "\n",
    "* $(A^T)^T = A$\n",
    "* $(AB)^T = B^T A^T$\n",
    "* $(A+B)^T = A^T + B^T$\n",
    "* $(A^{-1})^T = (A^{T})^{-1}$ if $A^{-1}$ exists"
   ]
  },
  {
   "cell_type": "markdown",
   "metadata": {
    "slideshow": {
     "slide_type": "slide"
    }
   },
   "source": [
    "#### Linear transformations\n",
    "\n",
    "A linear transformation $y =T(x)$ from $\\mathbb R^n$ to $\\mathbb R^m$ is a function that takes in a vector $x \\in R^n$ and returns a vector $y \\in \\mathbb R^m$.  In addition, it must satisfy the rule of linearity:\n",
    "\n",
    "* $T(\\alpha x_1 + \\beta x_2) = \\alpha T(x_1) + \\beta T(x_2)$ for any $x_1,x_2 \\in R^n$ and $\\alpha,\\beta \\in \\mathbb R$\n",
    "\n",
    "\n",
    "\n",
    "#### Theorem\n",
    "\n",
    "Every linear transformation (from $\\mathbb R^n$ to $\\mathbb R^m$) has a matrix representation $A$ such that $T(x) = Ax$ for all $x \\in \\mathbb R^n$.  In addition\n",
    "\n",
    "$$A = [\\underbrace{a_1,a_2,\\ldots,a_n}_{\\text{columns of } A}], \\quad a_i = T(e_i), \\quad e_i = [\\underbrace{0,0,\\ldots,0}_{i-1 \\text{ zeros}},1,0,0,\\ldots]^T$$"
   ]
  },
  {
   "cell_type": "markdown",
   "metadata": {
    "slideshow": {
     "slide_type": "slide"
    }
   },
   "source": [
    "### Determinants"
   ]
  },
  {
   "cell_type": "markdown",
   "metadata": {
    "collapsed": true,
    "slideshow": {
     "slide_type": "slide"
    }
   },
   "source": [
    "#### Definition\n",
    "\n",
    "Suppose that $A$ is a square matrix\n",
    "\n",
    "* If $A = [a]$ is a $1 \\times 1$ matrix then $\\det A = a$.\n",
    "* If $A$ is an $n\\times n$ matrix with $n > 1$ the __minor__ $M_{ij}$ is the determinant of the $(n-1)\\times(n-1)$ submatrix of $A$ obtained by deleting the $i$th row and $j$th column of the matrix $A$.\n",
    "* The __cofactor__ $A_{ij}$ is given by $A_{ij} = M_{ij} (-1)^{i+j}$.\n",
    "* The __determinant__ of the $n \\times n$ matrix $A$ when $n > 1$ is given by either\n",
    "\n",
    "$$ \\det A = \\sum_{j=1}^n a_{ij}A_{ij},  \\quad \\det A = \\sum_{i=1}^n a_{ij}A_{ij}$$\n",
    "\n",
    "for any $1 \\leq i \\leq n$ or $1 \\leq j \\leq n$."
   ]
  },
  {
   "cell_type": "markdown",
   "metadata": {
    "slideshow": {
     "slide_type": "slide"
    }
   },
   "source": [
    "#### Example\n",
    "\n",
    "Find $\\det A$ using the cofactor expansion\n",
    "\n",
    "$$ A = \\begin{bmatrix} 1 & 1 & 3 & 0 \\\\ 2 & 1 &0 & 3 \\\\ 1 & 0 & 1 & 0 \\\\ 0 & -1 & -1 & 0 \\end{bmatrix}.$$"
   ]
  },
  {
   "cell_type": "markdown",
   "metadata": {
    "slideshow": {
     "slide_type": "slide"
    }
   },
   "source": [
    "#### Properties of the determinant\n",
    "\n",
    "1.  If $\\tilde A$ is obtained from $A$ by the operation $R_i \\leftrightarrow R_j$ with $i \\neq j$ then $\\det \\tilde A = - \\det A$.\n",
    "2. If $\\tilde A$ is obtained from $A$ by the operation $\\lambda R_j \\to R_j$ then $\\det \\tilde A = \\lambda \\det A$.\n",
    "3. If $\\tilde A$ is obtained from $A$ by the operation $R_i + \\lambda R_j \\to R_i$ with $i \\neq j$ then $\\det \\tilde A = \\det A$.\n",
    "4. If any row or column of $A$ has only zero entries, then $\\det A = 0$.\n",
    "5. If $A$ has two rows or two columns the same, then $\\det A = 0$."
   ]
  },
  {
   "cell_type": "markdown",
   "metadata": {
    "slideshow": {
     "slide_type": "slide"
    }
   },
   "source": [
    "#### Properties of the determinant (cont.)\n",
    "\n",
    "6. If $A$ and $B$ are both $n\\times n$ matrices then $\\det AB = \\det A \\det B$.\n",
    "7. $\\det A = \\det A^T$\n",
    "8. If $A^{-1}$ exists then $\\det A^{-1} = 1/\\det A$.\n",
    "9. If $A$ is either upper or lower triangular then $\\det A = \\prod_{i=1}^n a_{ii}$."
   ]
  },
  {
   "cell_type": "markdown",
   "metadata": {},
   "source": [
    "#### Example\n",
    "\n",
    "Find $\\det A$ using Gaussian elimination\n",
    "\n",
    "$$ A = \\begin{bmatrix} 1 & 1 & 3 & 0 \\\\ 2 & 1 &0 & 3 \\\\ 1 & 0 & 1 & 0 \\\\ 0 & -1 & -1 & 0 \\end{bmatrix}.$$"
   ]
  },
  {
   "cell_type": "code",
   "execution_count": null,
   "metadata": {
    "collapsed": true
   },
   "outputs": [],
   "source": []
  }
 ],
 "metadata": {
  "celltoolbar": "Slideshow",
  "kernelspec": {
   "display_name": "Python 2",
   "language": "python",
   "name": "python2"
  },
  "language_info": {
   "codemirror_mode": {
    "name": "ipython",
    "version": 2
   },
   "file_extension": ".py",
   "mimetype": "text/x-python",
   "name": "python",
   "nbconvert_exporter": "python",
   "pygments_lexer": "ipython2",
   "version": "2.7.14"
  }
 },
 "nbformat": 4,
 "nbformat_minor": 1
}
