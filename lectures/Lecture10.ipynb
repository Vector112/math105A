{
 "cells": [
  {
   "cell_type": "markdown",
   "metadata": {
    "slideshow": {
     "slide_type": "slide"
    }
   },
   "source": [
    "## Algorithmic deficiencies of Gaussian elimination (and back-substitution)"
   ]
  },
  {
   "cell_type": "markdown",
   "metadata": {
    "slideshow": {
     "slide_type": "slide"
    }
   },
   "source": [
    "Handwritten notes show how rank deficiency results in no unique solution and failure of Gaussian elimination."
   ]
  },
  {
   "cell_type": "markdown",
   "metadata": {
    "slideshow": {
     "slide_type": "slide"
    }
   },
   "source": [
    "#### Gaussian elimination (with contingency for rank deficiency)"
   ]
  },
  {
   "cell_type": "code",
   "execution_count": 3,
   "metadata": {
    "collapsed": true,
    "slideshow": {
     "slide_type": "-"
    }
   },
   "outputs": [
    {
     "ename": "SyntaxError",
     "evalue": "invalid syntax (<ipython-input-3-4b0007de54f4>, line 1)",
     "output_type": "error",
     "traceback": [
      "\u001b[0;36m  File \u001b[0;32m\"<ipython-input-3-4b0007de54f4>\"\u001b[0;36m, line \u001b[0;32m1\u001b[0m\n\u001b[0;31m    function A = GE(A):\u001b[0m\n\u001b[0m             ^\u001b[0m\n\u001b[0;31mSyntaxError\u001b[0m\u001b[0;31m:\u001b[0m invalid syntax\n"
     ]
    }
   ],
   "source": [
    "function A = GE(A):\n",
    "\n",
    "    INPUT: A is an n x n matrix\n",
    "\n",
    "    OUTPUT: A an n x n upper-triangular matrix, \n",
    "            or a message of failure\n",
    "\n",
    "    STEP 1: For i = 1,2,...,n-1 do STEPS 2-5\n",
    "      STEP 2: Let p >= i be the smallest integer s.t. A(p,i) != 0. \n",
    "      STEP 3: If p cannot be found then\n",
    "        DISPLAY('Method failed: matrix is rank deficient')\n",
    "        OUTPUT(A);\n",
    "        STOP.\n",
    "      STEP 4: If p > i do Ri <-> Rp on A\n",
    "      STEP 5: For j = i+1,i+2,...,n do STEP 6\n",
    "        STEP 6: Do R_j - A(j,i)/A(i,i) R_i --> R_j on A\n",
    "    STEP 7: If A(n,n) = 0\n",
    "      DISPLAY('Method failed: matrix is rank deficient')\n",
    "      OUTPUT(A)\n",
    "    STEP 8: OUTPUT(A); STOP."
   ]
  },
  {
   "cell_type": "markdown",
   "metadata": {
    "slideshow": {
     "slide_type": "slide"
    }
   },
   "source": [
    "#### Backward substitution (with contingency for rank deficiency)"
   ]
  },
  {
   "cell_type": "code",
   "execution_count": 2,
   "metadata": {
    "collapsed": true
   },
   "outputs": [
    {
     "ename": "SyntaxError",
     "evalue": "invalid syntax (<ipython-input-2-356e07a3c380>, line 1)",
     "output_type": "error",
     "traceback": [
      "\u001b[0;36m  File \u001b[0;32m\"<ipython-input-2-356e07a3c380>\"\u001b[0;36m, line \u001b[0;32m1\u001b[0m\n\u001b[0;31m    function x = Backsub(U)\u001b[0m\n\u001b[0m             ^\u001b[0m\n\u001b[0;31mSyntaxError\u001b[0m\u001b[0;31m:\u001b[0m invalid syntax\n"
     ]
    }
   ],
   "source": [
    "function x = Backsub(U)\n",
    "\n",
    "    INPUT: U is an n x (n + 1) upper-triangular matrix with non-zero diagonal entries\n",
    "\n",
    "    OUTPUT: the solution to U(1:n,1:n) x = U(1:n,n+1)\n",
    "\n",
    "    STEP 1: Set x = U(:,n+1)\n",
    "    STEP 2: \n",
    "        If U(n,n) = 0 then\n",
    "            OUTPUT('Method failed: singular matrix')\n",
    "            STOP.\n",
    "        Else set x(n) = U(n,n+1)/U(n,n)\n",
    "    STEP 3: For i = n-1,...,1 do STEP 4\n",
    "        STEP 4:\n",
    "          If U(i,i) = 0 then\n",
    "            OUTPUT('Method failed: singular matrix')\n",
    "            STOP.\n",
    "          Else set\n",
    "            x(i) = [U(i,n+1) - SUM( U(i,j)x(j), j= i+1,...,n )]\n",
    "            x(i) = x(i)/U(i,i)\n",
    "    STEP 5: OUTPUT(x); STOP."
   ]
  },
  {
   "cell_type": "markdown",
   "metadata": {
    "slideshow": {
     "slide_type": "slide"
    }
   },
   "source": [
    "Despite all the bells and whistles we have added to our algorithm, it can still run into trouble because of round-off error, as illustrated in the handwritten notes."
   ]
  },
  {
   "cell_type": "markdown",
   "metadata": {
    "slideshow": {
     "slide_type": "slide"
    }
   },
   "source": [
    "## Pivoting Strategies: Partial Pivoting"
   ]
  },
  {
   "cell_type": "markdown",
   "metadata": {
    "slideshow": {
     "slide_type": "slide"
    }
   },
   "source": [
    "The handwritten notes describe how a strategy called partial pivoting overcomes a deficiency of our GE-BS algorithm that arises from round-off error. "
   ]
  },
  {
   "cell_type": "markdown",
   "metadata": {
    "slideshow": {
     "slide_type": "slide"
    }
   },
   "source": [
    "### argmax \n",
    "\n",
    "Partial pivoting requires that we compute the __index__ of the element that is the largest in absolute value. Here's how to do that in Python:"
   ]
  },
  {
   "cell_type": "code",
   "execution_count": 1,
   "metadata": {},
   "outputs": [
    {
     "name": "stdout",
     "output_type": "stream",
     "text": [
      "1\n",
      "None\n"
     ]
    }
   ],
   "source": [
    "def argmax(xs, start):  \n",
    "    '''returns the index of the max of a sub-list'''\n",
    "\n",
    "    current_max = 0.0\n",
    "    current_max_location = None\n",
    "    for i in range(start, len(xs)):\n",
    "        if current_max < abs(xs[i]):\n",
    "            current_max = abs(xs[i])\n",
    "            current_max_location = i\n",
    "    return current_max_location\n",
    "\n",
    "print argmax([2,5,3],1)\n",
    "print argmax([2,0,0],1)"
   ]
  },
  {
   "cell_type": "markdown",
   "metadata": {
    "slideshow": {
     "slide_type": "slide"
    }
   },
   "source": [
    "### Gaussian elimination with partial pivoting"
   ]
  },
  {
   "cell_type": "code",
   "execution_count": null,
   "metadata": {
    "collapsed": true
   },
   "outputs": [],
   "source": [
    "function A = GEpp(A)\n",
    "\n",
    "    INPUT: A is an n x m matrix\n",
    "\n",
    "    OUTPUT:  A an n x n upper-triangular matrix, or error message if the method failed\n",
    "\n",
    "    STEP 1: For i = 1,2,...,n-1 do STEPS 2-6\n",
    "      STEP 2: Set p = argmax(A(:,i),i)\n",
    "      STEP 3: If p is None then\n",
    "        DISPLAY('Method failed: matrix is rank deficient')\n",
    "        OUTPUT(A);\n",
    "        STOP.\n",
    "      STEP 4: Do Ri <-> Rp on A\n",
    "      STEP 5: For j = i+1,i+2,...,n do STEP 5\n",
    "        STEP 6: Do R_j - A(j,i)/A(i,i) R_i --> R_j on A\n",
    "    STEP 7: If A(n,n) = 0\n",
    "      DISPLAY('Method failed: matrix is rank deficient')\n",
    "      OUTPUT(A)\n",
    "    STEP 8: OUTPUT(A); STOP."
   ]
  },
  {
   "cell_type": "markdown",
   "metadata": {
    "slideshow": {
     "slide_type": "slide"
    }
   },
   "source": [
    "#### Exercise\n",
    "\n",
    "Perform Gaussian elimination with partial pivoting to solve $A x = b$ where\n",
    "\n",
    "$$ A = \\begin{bmatrix} 1 & -1 & 1 & 1\\\\ 2 & -2 & 1 & 1\\\\ 0 & 1 & 0 & 1 \\\\ 1 & 1 & 1 & 1 \\end{bmatrix}, \\quad b = \\begin{bmatrix} 1 \\\\ 1\\\\ 1\\\\ 1 \\end{bmatrix}.$$ "
   ]
  }
 ],
 "metadata": {
  "celltoolbar": "Slideshow",
  "kernelspec": {
   "display_name": "Python 2",
   "language": "python",
   "name": "python2"
  },
  "language_info": {
   "codemirror_mode": {
    "name": "ipython",
    "version": 2
   },
   "file_extension": ".py",
   "mimetype": "text/x-python",
   "name": "python",
   "nbconvert_exporter": "python",
   "pygments_lexer": "ipython2",
   "version": "2.7.14"
  }
 },
 "nbformat": 4,
 "nbformat_minor": 1
}
