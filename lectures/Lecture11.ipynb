{
 "cells": [
  {
   "cell_type": "markdown",
   "metadata": {},
   "source": [
    "## Pivoting Strategies"
   ]
  },
  {
   "cell_type": "markdown",
   "metadata": {},
   "source": [
    "## Partial Pivoting\n",
    "The handwritten notes describe how a strategy called partial pivoting overcomes a deficiency of our GE-BS algorithm that arises from round-off error. "
   ]
  },
  {
   "cell_type": "markdown",
   "metadata": {},
   "source": [
    "### argmax \n",
    "\n",
    "Partial pivoting requires that we compute the __index__ of the element that is the largest in absolute value. Here's how to do that in Python:"
   ]
  },
  {
   "cell_type": "code",
   "execution_count": 1,
   "metadata": {},
   "outputs": [
    {
     "name": "stdout",
     "output_type": "stream",
     "text": [
      "1\n",
      "None\n"
     ]
    }
   ],
   "source": [
    "def argmax(xs, start):  \n",
    "    '''returns the index of the max of a sub-list'''\n",
    "\n",
    "    current_max = 0.0\n",
    "    current_max_location = None\n",
    "    for i in range(start, len(xs)):\n",
    "        if current_max < abs(xs[i]):\n",
    "            current_max = abs(xs[i])\n",
    "            current_max_location = i\n",
    "    return current_max_location\n",
    "\n",
    "print argmax([2,5,3],1)\n",
    "print argmax([2,0,0],1)"
   ]
  },
  {
   "cell_type": "markdown",
   "metadata": {},
   "source": [
    "### Gaussian elimination with partial pivoting"
   ]
  },
  {
   "cell_type": "code",
   "execution_count": null,
   "metadata": {
    "collapsed": true
   },
   "outputs": [],
   "source": [
    "function A = GEpp(A)\n",
    "\n",
    "    INPUT: A is an n x m matrix\n",
    "\n",
    "    OUTPUT:  A an n x n upper-triangular matrix, or error message if the method failed\n",
    "\n",
    "    STEP 1: For i = 1,2,...,n-1 do STEPS 2-6\n",
    "      STEP 2: Set p = argmax(A(:,i),i)\n",
    "      STEP 3: If p is None then\n",
    "        DISPLAY('Method failed: matrix is rank deficient')\n",
    "        OUTPUT(A);\n",
    "        STOP.\n",
    "      STEP 4: Do Ri <-> Rp on A\n",
    "      STEP 5: For j = i+1,i+2,...,n do STEP 5\n",
    "        STEP 6: Do R_j - A(j,i)/A(i,i) R_i --> R_j on A\n",
    "    STEP 7: If A(n,n) = 0\n",
    "      DISPLAY('Method failed: matrix is rank deficient')\n",
    "      OUTPUT(A)\n",
    "    STEP 8: OUTPUT(A); STOP."
   ]
  },
  {
   "cell_type": "markdown",
   "metadata": {},
   "source": [
    "#### Exercise\n",
    "\n",
    "Perform Gaussian elimination with partial pivoting to solve $A x = b$ where\n",
    "\n",
    "$$ A = \\begin{bmatrix} 1 & -1 & 1 & 1\\\\ 2 & -2 & 1 & 1\\\\ 0 & 1 & 0 & 1 \\\\ 1 & 1 & 1 & 1 \\end{bmatrix}, \\quad b = \\begin{bmatrix} 1 \\\\ 1\\\\ 1\\\\ 1 \\end{bmatrix}.$$ "
   ]
  },
  {
   "cell_type": "markdown",
   "metadata": {
    "slideshow": {
     "slide_type": "slide"
    }
   },
   "source": [
    "Consider solving the following augmented system\n",
    "\n",
    "$$\\left[\\begin{array}{cc|c} 2 & 2c & 2c \\\\ 1 & 1 & 2 \\end{array} \\right].$$\n",
    "\n",
    "Assume we are working in $5$ digit aritmetic and $c \\geq 10^6$.  We perform GE with partial pivoting. Initially, we do no row swaps.  After one step, $R_2- 1/2 R_1 \\to R_2$ we have \n",
    "\n",
    "$$\\left[\\begin{array}{cc|c} 2 & 2c & 2c \\\\ 0 & fl(1-c) & fl(2-c) \\end{array} \\right].$$\n",
    "\n",
    "In 5-digit arithmetic $fl(1- c) = -c$ and $fl(2-c) = -c$."
   ]
  },
  {
   "cell_type": "markdown",
   "metadata": {
    "slideshow": {
     "slide_type": "slide"
    }
   },
   "source": [
    "$$\\left[\\begin{array}{cc|c} 2 & 2c & 2c \\\\ 0 & -c & -c \\end{array} \\right].$$\n",
    "\n",
    "Performing backward subsitution, we get \n",
    "$$x_2 = -c/(-c) = 1$$\n",
    "$$x_1 = (2c -  2c x_2)/2 = 0$$\n",
    "\n",
    "But\n",
    "\n",
    "$$\\left[\\begin{array}{cc|c} 2 & 2c  \\\\ 1 & 1  \\end{array} \\right] \\begin{bmatrix} 0 \\\\ 1 \\end{bmatrix}  = \\begin{bmatrix} 2c \\\\ 1 \\end{bmatrix} \\neq \\begin{bmatrix} 2c \\\\ 2 \\end{bmatrix}$$"
   ]
  },
  {
   "cell_type": "markdown",
   "metadata": {
    "slideshow": {
     "slide_type": "slide"
    }
   },
   "source": [
    "If we instead interchange rows because of the large elements in the first row, we'd perform\n",
    "\n",
    "$$\\left[\\begin{array}{cc|c} 1 & 1 & 2 \\\\ 2 & 2c & 2c  \\end{array} \\right].$$\n",
    "\n",
    "$$R_2 - 2 R_1 \\to R_2$$\n",
    "\n",
    "$$\\left[\\begin{array}{cc|c} 1 & 1 & 2 \\\\ 0 & fl(2c-2) & fl(2c -4) \\end{array} \\right].$$\n",
    "\n",
    "In 5-digit arithmetic $fl(2c- 2) = 2c$ and $fl(2c-4) = 2c$."
   ]
  },
  {
   "cell_type": "markdown",
   "metadata": {
    "slideshow": {
     "slide_type": "slide"
    }
   },
   "source": [
    "$$\\left[\\begin{array}{cc|c} 1 & 1 & 2 \\\\ 0 & 2c & 2c \\end{array} \\right]$$\n",
    "\n",
    "$$x_2 = 2c/2c = 1$$\n",
    "$$x_1 = 2 - x_2 = 1$$\n",
    "\n",
    "In 5-digit arithmetic\n",
    "\n",
    "$$\\left[\\begin{array}{cc|c} 2 & 2c  \\\\ 1 & 1  \\end{array} \\right] \\begin{bmatrix} 1 \\\\ 1 \\end{bmatrix}  = \\begin{bmatrix} fl(2+2c) \\\\ 2 \\end{bmatrix}  = \\begin{bmatrix} 2c \\\\ 2 \\end{bmatrix}$$"
   ]
  },
  {
   "cell_type": "markdown",
   "metadata": {
    "slideshow": {
     "slide_type": "slide"
    }
   },
   "source": [
    "### Scaled partial pivoting"
   ]
  },
  {
   "cell_type": "markdown",
   "metadata": {},
   "source": [
    "Let $A$ be an $n \\times n$ matrix.  After $k$ steps of Gaussian elimination, $A$ has zeros below the first $k$ diagonal entries.  With partial pivoting, we look at the entries that are in the $(k+1)$th column and rows $k+1$ through $n$:\n",
    "\n",
    "$$A = \\begin{bmatrix} a_{11} & a_{12} &&&  \\cdots &&& a_{1n}\\\\\n",
    "0 & a_{22}  &&&\\cdots&&& a_{2n}\\\\\n",
    "\\vdots &\\ddots &&&&&& \\vdots \\\\\n",
    "0 &0 & \\cdots & a_{k+1,k+1} & a_{k+1,k+2}  &\\cdots && a_{k+1,n}\\\\\n",
    "0 &0 & \\cdots & a_{k+2,k+1} & a_{k+2,k+1} &&& a_{k+2,n}\\\\\n",
    "\\vdots & \\vdots && \\vdots & \\vdots &&& \\vdots\\\\\n",
    "0 &0 & \\cdots & a_{n,k} & a_{n,k+1} &&& a_{n,n}\\\\\n",
    "\\end{bmatrix}$$"
   ]
  },
  {
   "cell_type": "markdown",
   "metadata": {
    "slideshow": {
     "slide_type": "slide"
    }
   },
   "source": [
    "With partial pivoting, we swap rows so as to replace $a_{k+1,k+1}$ with the largest element (in absolute value) among the set $\\{a_{k+1,k+1}, a_{k+2,k+1},\\ldots,a_{n,k+1}\\}$.\n",
    "\n",
    "Often, what is more important is the relative size of the first non-zero entry in the row to the largest entry (in absolute value).  Before any row operations define\n",
    "\n",
    "$$s_i = \\max_{1 \\leq j \\leq n} |a_{i,j}|.$$\n",
    "\n",
    "The number $s_i$ is computed once, is attached to row $i$, and will need to be swapped when row $i$ is swapped.\n",
    "\n"
   ]
  },
  {
   "cell_type": "markdown",
   "metadata": {
    "slideshow": {
     "slide_type": "slide"
    }
   },
   "source": [
    "One step of scaled partial pivoting is as follows:\n",
    "\n",
    "Let $A$ be an $n \\times (n+1)$ matrix.\n",
    "\n",
    "Compute $\\alpha = \\max_{1 \\leq i \\leq n} |A_{i,1}|/s_i$.\n",
    "\n",
    "Then choose the smallest value of $p$ such that $|A_{p,1}|/s_p = \\alpha$. \n",
    "\n",
    "Perform $R_1 \\leftrightarrow R_p$ and $s_1 \\leftrightarrow s_p$\n",
    "\n",
    "Then row reduce, below $A_{11}$."
   ]
  },
  {
   "cell_type": "markdown",
   "metadata": {
    "slideshow": {
     "slide_type": "slide"
    }
   },
   "source": [
    "#### Full Gaussian elimination with scaled partial pivoting"
   ]
  },
  {
   "cell_type": "code",
   "execution_count": null,
   "metadata": {
    "collapsed": true
   },
   "outputs": [],
   "source": [
    "function A = GEspp(A)\n",
    "\n",
    "INPUT: A is an n x m matrix\n",
    "\n",
    "OUTPUT:  A an n x m upper-triangular matrix, or Inf if the method failed\n",
    "\n",
    "STEP 1: Define s = max(abs(A(1:n,1:n)')' % the scale factors\n",
    "STEP 2: For i = 1,2,...,n-1 do STEPS 3-8\n",
    "  STEP 3: Set p = argmax(A(i:n,i)./s(i:n)) %This is a concise way to find the entry with the largest relative size\n",
    "  STEP 4: If p = 0 then\n",
    "    DISPLAY('Method failed: matrix is rank deficient')\n",
    "    OUTPUT(A);\n",
    "    STOP.\n",
    "  STEP 5: Set p = p + i - 1  %Adjust p to correspond to the right row of A\n",
    "  STEP 6: Do Ri <-> Rp on A  %if you swap rows\n",
    "  STEP 7: Do si <-> sp on s  %you need to swap scale factors\n",
    "  STEP 8: For j = i+1,i+2,...,n do STEP 9\n",
    "    STEP 9: Do R_j - A(j,i)/A(i,i) R_i --> R_j on A\n",
    "STEP 10: If A(n,n) = 0\n",
    "  DISPLAY('Method failed: matrix is rank deficient')\n",
    "  OUTPUT(A)\n",
    "STEP 11: OUTPUT(A); STOP."
   ]
  },
  {
   "cell_type": "code",
   "execution_count": 23,
   "metadata": {
    "slideshow": {
     "slide_type": "slide"
    }
   },
   "outputs": [
    {
     "name": "stdout",
     "output_type": "stream",
     "text": [
      "A =\n",
      "\n",
      "     5     2     3\n",
      "     1     1     1\n",
      "     4     3     1\n",
      "\n",
      "\n",
      "ans =\n",
      "\n",
      "     5\n",
      "     1\n",
      "     4\n"
     ]
    }
   ],
   "source": [
    "A = [5,2,3; 1,1,1; 4,3,1];\n",
    "A\n",
    "max(abs(A'))'"
   ]
  },
  {
   "cell_type": "markdown",
   "metadata": {
    "slideshow": {
     "slide_type": "slide"
    }
   },
   "source": [
    "Scaled partial pivoting is slightly better:"
   ]
  },
  {
   "cell_type": "code",
   "execution_count": 41,
   "metadata": {
    "slideshow": {
     "slide_type": "-"
    }
   },
   "outputs": [
    {
     "name": "stdout",
     "output_type": "stream",
     "text": [
      "ans =\n",
      "\n",
      "   2.5175e-08\n",
      "\n",
      "\n",
      "ans =\n",
      "\n",
      "   1.0271e-08\n"
     ]
    }
   ],
   "source": [
    "n = 100; A = rand(n); b = rand(n,1);\n",
    "A(1,:) = (1:n).^4.*A(2,:) + A(1,:); % create a \"difficult\" matrix\n",
    "U = GEpp([A,b]);\n",
    "x = Backsub(U);\n",
    "max(abs(x-A\\b))\n",
    "\n",
    "U = GEspp([A,b]);\n",
    "x = Backsub(U);\n",
    "max(abs(x-A\\b))"
   ]
  },
  {
   "cell_type": "markdown",
   "metadata": {
    "slideshow": {
     "slide_type": "slide"
    }
   },
   "source": [
    "### Full (complete) pivoting"
   ]
  },
  {
   "cell_type": "markdown",
   "metadata": {},
   "source": [
    "Complete pivoting involves both row and column interchanges.  Let $A$ be an $n \\times n$ matrix.  After $k$ steps of Gaussian elimination, $A$ has zeros below the first $k$ diagonal entries:\n",
    "\n",
    "$$A = \\begin{bmatrix} a_{11} & a_{12} &&&  \\cdots &&& a_{1n}\\\\\n",
    "0 & a_{22}  &&&\\cdots&&& a_{2n}\\\\\n",
    "\\vdots &\\ddots &&&&&& \\vdots \\\\\n",
    "0 &0 & \\cdots & a_{k+1,k+1} & a_{k+1,k+2}  &\\cdots && a_{k+1,n}\\\\\n",
    "0 &0 & \\cdots & a_{k+2,k+1} & a_{k+2,k+1} &&& a_{k+2,n}\\\\\n",
    "\\vdots & \\vdots && \\vdots & \\vdots &&& \\vdots\\\\\n",
    "0 &0 & \\cdots & a_{n,k} & a_{n,k+1} &&& a_{n,n}\\\\\n",
    "\\end{bmatrix}$$"
   ]
  },
  {
   "cell_type": "markdown",
   "metadata": {
    "slideshow": {
     "slide_type": "slide"
    }
   },
   "source": [
    "We swap rows and columns to move the largest element (in absolute value) in the entire bottom right block to $(k+1,k+1)$ entry."
   ]
  },
  {
   "cell_type": "markdown",
   "metadata": {
    "slideshow": {
     "slide_type": "slide"
    }
   },
   "source": [
    "#### Example\n",
    "\n",
    "Perform Gaussian elimination with partial pivoting to solve $A x = b$ where\n",
    "\n",
    "$$ A = \\begin{bmatrix} 1 & -1 & 1 \\\\ 2 & -2 & 1 \\\\ 0 & 3 & 0  \\end{bmatrix}, \\quad b = \\begin{bmatrix} 1 \\\\ 1\\\\ 1 \\end{bmatrix}.$$ \n",
    "\n"
   ]
  },
  {
   "cell_type": "markdown",
   "metadata": {
    "slideshow": {
     "slide_type": "slide"
    }
   },
   "source": [
    "$$ \\left[ \\begin{array}{ccc|c} 1 & -1 & 1 & 1 \\\\ 2 & -2 & 1 & 1 \\\\ 0 & 3 & 0 & 1 \\end{array} \\right] \\quad \\text{unknown = } \\begin{bmatrix} x_1\\\\x_2\\\\x_3 \\end{bmatrix}$$"
   ]
  },
  {
   "cell_type": "markdown",
   "metadata": {
    "slideshow": {
     "slide_type": "fragment"
    }
   },
   "source": [
    "$$R_1 \\leftrightarrow R_3$$"
   ]
  },
  {
   "cell_type": "markdown",
   "metadata": {
    "slideshow": {
     "slide_type": "slide"
    }
   },
   "source": [
    "$$ \\left[ \\begin{array}{ccc|c} 0 & 3 & 0 & 1 \\\\ 2 & -2 & 1 & 1\\\\ 1 & -1 & 1 & 1 \\end{array} \\right] \\quad \\text{unknown = } \\begin{bmatrix} x_1\\\\x_2\\\\x_3\\end{bmatrix}$$"
   ]
  },
  {
   "cell_type": "markdown",
   "metadata": {
    "slideshow": {
     "slide_type": "fragment"
    }
   },
   "source": [
    "$$C_1 \\leftrightarrow C_2$$"
   ]
  },
  {
   "cell_type": "markdown",
   "metadata": {
    "slideshow": {
     "slide_type": "slide"
    }
   },
   "source": [
    "$$ \\left[ \\begin{array}{ccc|c} 3 & 0 & 0 & 1 \\\\ -2 & 2 & 1 & 1\\\\ -1 & 1 & 1 & 1 \\end{array} \\right] \\quad \\text{unknown = } \\begin{bmatrix} x_2\\\\x_1\\\\x_3\\end{bmatrix}$$"
   ]
  },
  {
   "cell_type": "markdown",
   "metadata": {
    "slideshow": {
     "slide_type": "fragment"
    }
   },
   "source": [
    "$$R_2 + 2/3 R_1 \\to R_2$$\n",
    "$$R_3 + 1/3 R_1 \\to R_3$$"
   ]
  },
  {
   "cell_type": "markdown",
   "metadata": {
    "slideshow": {
     "slide_type": "slide"
    }
   },
   "source": [
    "$$ \\left[ \\begin{array}{ccc|c} 3 & 0 & 0 & 1 \\\\ 0 & 2 & 1 & 5/3\\\\ 0 & 1 & 1 & 4/3 \\end{array} \\right] \\quad \\text{unknown = } \\begin{bmatrix} x_2\\\\x_1\\\\x_3\\end{bmatrix}$$"
   ]
  },
  {
   "cell_type": "markdown",
   "metadata": {
    "slideshow": {
     "slide_type": "fragment"
    }
   },
   "source": [
    "$$R_3 - 1/2 R_2 \\to R_3$$"
   ]
  },
  {
   "cell_type": "markdown",
   "metadata": {
    "slideshow": {
     "slide_type": "slide"
    }
   },
   "source": [
    "$$ \\left[ \\begin{array}{ccc|c} 3 & 0 & 0 & 1 \\\\ 0 & 2 & 1 & 5/3\\\\ 0 & 0 & 1/2 & 1/2 \\end{array} \\right] \\quad \\text{unknown = } \\begin{bmatrix} x_2\\\\x_1\\\\x_3\\end{bmatrix}$$"
   ]
  },
  {
   "cell_type": "markdown",
   "metadata": {
    "slideshow": {
     "slide_type": "fragment"
    }
   },
   "source": [
    "$$x_3 = 1, \\quad x_1 = (5/3 - x_3)/2 = 1/3, \\quad x_2 = 1/3$$"
   ]
  },
  {
   "cell_type": "markdown",
   "metadata": {
    "slideshow": {
     "slide_type": "slide"
    }
   },
   "source": [
    "#### Example (where partial pivoting failed)\n",
    "\n",
    "In 5-digit arithmetic with $c > 10^6$\n",
    "\n",
    "$$\\left[\\begin{array}{cc|c} 2 & 2c & 2c \\\\ 1 & 1 & 2 \\end{array} \\right] \\quad \\text{unknown = } \\begin{bmatrix} x_1\\\\x_2\\end{bmatrix}$$\n",
    "\n",
    "$$C_1 \\leftrightarrow C_2$$"
   ]
  },
  {
   "cell_type": "markdown",
   "metadata": {
    "slideshow": {
     "slide_type": "subslide"
    }
   },
   "source": [
    "$$\\left[\\begin{array}{cc|c} 2c & 2 & 2c \\\\ 1 & 1 & 2 \\end{array} \\right] \\quad \\text{unknown = } \\begin{bmatrix} x_2\\\\x_1\\end{bmatrix}$$\n",
    "\n",
    "$$ R_2 - R_1/(2c) \\to R_2$$"
   ]
  },
  {
   "cell_type": "markdown",
   "metadata": {
    "slideshow": {
     "slide_type": "subslide"
    }
   },
   "source": [
    "$$\\left[\\begin{array}{cc|c} 2c & 2 & 2c \\\\ 0 & fl(1-c^{-1}) & 1 \\end{array} \\right] \\quad \\text{unknown = } \\begin{bmatrix} x_2\\\\x_1\\end{bmatrix}$$\n",
    "\n",
    "$$ fl(1-c^{-1}) = 1$$\n",
    "\n",
    "$$\\left[\\begin{array}{cc|c} 2c & 2 & 2c \\\\ 0 & 1 & 1 \\end{array} \\right] \\quad \\text{unknown = } \\begin{bmatrix} x_2\\\\x_1\\end{bmatrix}$$\n",
    "\n",
    "$$ x_ 1 =1, \\quad x_2 = fl((2c - 2)/2c) = 1$$"
   ]
  },
  {
   "cell_type": "markdown",
   "metadata": {
    "slideshow": {
     "slide_type": "subslide"
    }
   },
   "source": [
    "In 5-digit arithmetic, this gives the solution of the system\n",
    "\n",
    "$$\\left[\\begin{array}{cc|c} 2 & 2c\\\\ 1 & 1 \\end{array} \\right] \\begin{bmatrix} 1 \\\\ 1 \\end{bmatrix} = \\begin{bmatrix} fl(2 + 2c) \\\\ 2 \\end{bmatrix} = \\begin{bmatrix} 2c \\\\ 2 \\end{bmatrix}$$"
   ]
  },
  {
   "cell_type": "markdown",
   "metadata": {
    "slideshow": {
     "slide_type": "slide"
    }
   },
   "source": [
    "#### Example (where standard Gaussian elimination failed)\n",
    "\n",
    "In 5-digit arithmetic with $c > 10^6$\n",
    "\n",
    "$$ \\left[\\begin{array}{cc|c} c^{-1} & 1 & 1 \\\\ 1 & 2 & 1\\end{array} \\right] \\quad \\text{unknown = } \\begin{bmatrix} x_1\\\\x_2\\end{bmatrix}$$\n",
    "\n",
    "$$R_1 \\leftrightarrow R_2 \\quad C_1 \\leftrightarrow C_2$$"
   ]
  },
  {
   "cell_type": "markdown",
   "metadata": {
    "slideshow": {
     "slide_type": "subslide"
    }
   },
   "source": [
    "$$ \\left[\\begin{array}{cc|c} 2 & 1 & 1 \\\\ 1 & c^{-1} & 1\\end{array} \\right] \\quad \\text{unknown = } \\begin{bmatrix} x_2\\\\x_1\\end{bmatrix}$$\n",
    "\n",
    "$$ R_2 - 1/2 R_1 \\to R_2$$"
   ]
  },
  {
   "cell_type": "markdown",
   "metadata": {
    "slideshow": {
     "slide_type": "subslide"
    }
   },
   "source": [
    "$$ \\left[\\begin{array}{cc|c} 2 & 1 & 1 \\\\ 0 & fl(c^{-1}-1/2) & 1/2\\end{array} \\right] \\quad \\text{unknown = } \\begin{bmatrix} x_2\\\\x_1\\end{bmatrix}$$\n",
    "\n",
    "$$ fl(c^{-1} -1/2) = -1/2$$"
   ]
  },
  {
   "cell_type": "markdown",
   "metadata": {
    "slideshow": {
     "slide_type": "subslide"
    }
   },
   "source": [
    "$$ \\left[\\begin{array}{cc|c} 2 & 1 & 1 \\\\ 0 & -1/2 & 1/2\\end{array} \\right] \\quad \\text{unknown = } \\begin{bmatrix} x_2\\\\x_1\\end{bmatrix}$$\n",
    "\n",
    "$$ x_1 = -1, \\quad x_2 = fl( (1-x_1)/2) = 1 $$"
   ]
  },
  {
   "cell_type": "markdown",
   "metadata": {
    "slideshow": {
     "slide_type": "subslide"
    }
   },
   "source": [
    "This is the solution (in 5-digit arithmetic)\n",
    "\n",
    "$$ \\left[\\begin{array}{cc|c} c^{-1} & 1  \\\\ 1 & 2 \\end{array} \\right]  \\begin{bmatrix} -1\\\\1\\end{bmatrix} = \\begin{bmatrix} fl(1-c^{-1}) \\\\ 1\\end{bmatrix} = \\begin{bmatrix} 1\\\\ 1\\end{bmatrix}$$"
   ]
  },
  {
   "cell_type": "code",
   "execution_count": null,
   "metadata": {
    "collapsed": true
   },
   "outputs": [],
   "source": []
  }
 ],
 "metadata": {
  "celltoolbar": "Slideshow",
  "kernelspec": {
   "display_name": "Python 2",
   "language": "python",
   "name": "python2"
  },
  "language_info": {
   "codemirror_mode": {
    "name": "ipython",
    "version": 2
   },
   "file_extension": ".py",
   "mimetype": "text/x-python",
   "name": "python",
   "nbconvert_exporter": "python",
   "pygments_lexer": "ipython2",
   "version": "2.7.14"
  }
 },
 "nbformat": 4,
 "nbformat_minor": 1
}
