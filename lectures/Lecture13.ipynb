{
 "cells": [
  {
   "cell_type": "markdown",
   "metadata": {
    "slideshow": {
     "slide_type": "slide"
    }
   },
   "source": [
    "### More on determinants"
   ]
  },
  {
   "cell_type": "markdown",
   "metadata": {
    "slideshow": {
     "slide_type": "slide"
    }
   },
   "source": [
    "The determinant is often not computed (although we discuss its computation below) but it gives a theoretical condition for the invertiblity of matrices<br>\n",
    "\n",
    "#### Theorem\n",
    "\n",
    "The following are equivalent for an $n\\times n$ matrix $A$:\n",
    "\n",
    "1. The equation $Ax = 0$ has the unique solution $x = 0$.\n",
    "2. The system $Ax = b$ has a unique solution for any $n$-dimensional column vector $b$.\n",
    "3. The matrix $A$ is nonsingular; $A^{-1}$ exists.\n",
    "4. $\\det A \\neq 0$\n",
    "5. Gaussian elimination with row interchanges can be performed on the system $Ax = b$ for any $n$-dimensional vector $b$."
   ]
  },
  {
   "cell_type": "markdown",
   "metadata": {
    "slideshow": {
     "slide_type": "slide"
    }
   },
   "source": [
    "#### A pitfall for the determinant\n",
    "\n",
    "Consider the $100 \\times 100$ matrix\n",
    "\n",
    "$$A = \\begin{bmatrix} \\lambda \\\\ & \\lambda \\\\ && \\lambda \\\\ &&& \\lambda\\\\ &&&&\\ddots \\\\ &&&&& \\lambda \\end{bmatrix}.$$\n",
    "\n",
    "Assume $\\lambda = 10^{-1}$, then $\\det A = 10^{-100}$.  If we computed this, we might assume that $A$ is not invertible!  But for $Ax =b = [1,1,1,1,1,\\ldots,1]^T$ we have $x = [10,10,10,\\ldots,10]^T$, a perfectly fine solution!\n",
    "\n",
    "This is a reason that determinants are typically not used numerically (determinants of \"small\"-dimensional matrices can be OK, but what is \"small\"?)"
   ]
  },
  {
   "cell_type": "markdown",
   "metadata": {
    "slideshow": {
     "slide_type": "slide"
    }
   },
   "source": [
    "### Operation count for cofactor expansion\n",
    "\n",
    "Recall that we defined the determinant via\n",
    "\n",
    "$$\\det A = \\sum_{j=1}^n a_{ij} A_{ij}$$\n",
    "\n",
    "where $A_{ij}$ is itself a determinant of an $(n-1) \\times (n-1)$ matrix.\n",
    "\n",
    "Let $S_n$ and $P_n$ denote the number of sums and products, respectively, that are required to compute a determinant of size $n$.  In this, we have $n$ multiplications, $n-1$ sums, and we have to \n",
    "\n"
   ]
  },
  {
   "cell_type": "markdown",
   "metadata": {
    "slideshow": {
     "slide_type": "slide"
    }
   },
   "source": [
    "$$\\det A = \\sum_{j=1}^n a_{ij} A_{ij}$$\n",
    "\n",
    "For sums:  In this, $n-1$ sums, and we have to do $S_{n-1}$, $n$ times.\n",
    "\n",
    "$$S_n = n S_{n-1} + n-1$$\n",
    "\n",
    "And we have that $S_1 = 0$:\n",
    "\n",
    "$S_2 = 2(0) + 1 = 1$\n",
    "\n",
    "$S_3 = 3 S_2 + 2 = 5$\n",
    "\n",
    "$S_4 = 4 S_3 + 3 = 23$\n",
    "\n"
   ]
  },
  {
   "cell_type": "code",
   "execution_count": 12,
   "metadata": {
    "slideshow": {
     "slide_type": "slide"
    }
   },
   "outputs": [
    {
     "data": {
      "image/png": "[encoded data removed]",
      "text/plain": [
       "<IPython.core.display.Image object>"
      ]
     },
     "metadata": {},
     "output_type": "display_data"
    }
   ],
   "source": [
    "n = 1:10;\n",
    "S = zeros(10,1);\n",
    "for i = 2:10\n",
    "    S(i) = i*S(i-1) + i -1;\n",
    "end\n",
    "\n",
    "semilogy(n,S,'r*')\n",
    "hold on\n",
    "semilogy(n,factorial(n),'g*')"
   ]
  },
  {
   "cell_type": "markdown",
   "metadata": {
    "slideshow": {
     "slide_type": "slide"
    }
   },
   "source": [
    "From this plot you can see that it appears $S_n \\approx n!$.  Indeed, one can show that \n",
    "\n",
    "$$\\lim_{n\\to \\infty} S_n/n! = 1,$$\n",
    "$$\\lim_{n \\to \\infty} P_n/n! = e.$$"
   ]
  },
  {
   "cell_type": "markdown",
   "metadata": {
    "slideshow": {
     "slide_type": "subslide"
    }
   },
   "source": [
    "To show this, we have $S_n = n S_{n-1} + n-1$.  For the factorial $n! = n(n-1)!$, so define $\\Delta_n = S_n/n!$ which satisfies\n",
    "\n",
    "$$ \\frac{S_n}{n!} = \\frac{n S_{n-1}}{n (n-1)!} + \\frac{n-1}{n!}$$\n",
    "$$ \\Delta_n = \\Delta_{n-1} + \\frac{n-1}{n!}$$\n",
    "\n",
    "We have $\\Delta_1 = 0$ because $S_1 = 0$."
   ]
  },
  {
   "cell_type": "markdown",
   "metadata": {
    "slideshow": {
     "slide_type": "subslide"
    }
   },
   "source": [
    "It then follows that as $k \\to \\infty$\n",
    "\n",
    "$$\\Delta_k = \\sum_{n=1}^k \\frac{n-1}{n!} \\to \\sum_{n=1}^\\infty \\frac{n-1}{n!}$$\n",
    "\n",
    "$$\\sum_{n=1}^\\infty \\frac{n-1}{n!} = \\sum_{n=1}^\\infty \\frac{1}{(n-1)!} - \\sum_{n=1}^\\infty \\frac{1}{n!} \\\\\n",
    "= e - (e-1) = 1.$$"
   ]
  },
  {
   "cell_type": "markdown",
   "metadata": {
    "slideshow": {
     "slide_type": "subslide"
    }
   },
   "source": [
    "For the product $\\Delta_n = P_n/n!$  satisfies\n",
    "\n",
    "$$ \\frac{S_n}{n!} = \\frac{n S_{n-1}}{n (n-1)!} + \\frac{n}{n!}$$\n",
    "$$ \\Delta_n = \\Delta_{n-1} + \\frac{1}{(n-1)!}$$\n",
    "\n",
    "We have $\\Delta_1 = 1$ because $P_1 = 1$."
   ]
  },
  {
   "cell_type": "markdown",
   "metadata": {
    "slideshow": {
     "slide_type": "subslide"
    }
   },
   "source": [
    "It then follows that as $k \\to \\infty$\n",
    "\n",
    "$$\\Delta_k = \\sum_{n=1}^k \\frac{1}{(n-1)!} \\to \\sum_{n=1}^\\infty \\frac{1}{(n-1)!} = e$$"
   ]
  },
  {
   "cell_type": "markdown",
   "metadata": {
    "slideshow": {
     "slide_type": "slide"
    }
   },
   "source": [
    "So, using the cofactor expansion it takes more than $n!$ operations to compute an $n\\times n$ determinant.  We use __Stirling's approximation__\n",
    "\n",
    "$$n! \\approx \\sqrt{2\\pi n} \\left( \\frac{n}{e} \\right)^n$$.\n",
    "\n",
    "This is exponential growth!  How can we ever compute a determinant (even if it is a bad idea...)?"
   ]
  },
  {
   "cell_type": "markdown",
   "metadata": {
    "slideshow": {
     "slide_type": "slide"
    }
   },
   "source": [
    "If you go back to our previous calculations for Gaussian elimination (without backward substitution) applied to an $n\\times n$ matrix it takes\n",
    "\n",
    "$$\\frac{2n^3-3n^2+n}{6} \\quad \\text{additions}$$\n",
    "\n",
    "and \n",
    "\n",
    "$$\\frac{n^3-n}{3} \\quad \\text{multiplications}$$\n",
    "\n",
    "to use row operations to transform a matrix to upper-triangular form.  Then, once the matrix is in upper-triangular form $U$,\n",
    "\n",
    "$$\\det A = (-1)^{\\text{ (# of row flips) }}\\prod_{i=1}^n u_{ii}$$."
   ]
  },
  {
   "cell_type": "markdown",
   "metadata": {
    "slideshow": {
     "slide_type": "slide"
    }
   },
   "source": [
    "This gives a total count to compute the determinant as\n",
    "\n",
    "$$\\frac{2n^3-3n^2+n}{6} \\quad \\text{additions}$$\n",
    "\n",
    "and \n",
    "\n",
    "$$\\frac{n^3+2n-2}{3} \\quad \\text{multiplications}$$"
   ]
  },
  {
   "cell_type": "markdown",
   "metadata": {
    "slideshow": {
     "slide_type": "slide"
    }
   },
   "source": [
    "This is MUCH better than $n!$ operations.  Let's tabulate a few values"
   ]
  },
  {
   "cell_type": "code",
   "execution_count": 1,
   "metadata": {},
   "outputs": [
    {
     "name": "stdout",
     "output_type": "stream",
     "text": [
      "ans =\n",
      "\n",
      "     0     0\n",
      "     1     1\n",
      "     5     5\n",
      "    23    14\n",
      "   119    30\n",
      "   719    55\n"
     ]
    }
   ],
   "source": [
    "n = 1:6;  %counting additions\n",
    "cofactor = zeros(1,length(n));\n",
    "for i = 2:length(n)\n",
    "    cofactor(i) = i*cofactor(i-1) + i-1;\n",
    "end\n",
    "Gauss = (2*n.^3 - 3*n.^2 +n)/6;\n",
    "[cofactor',Gauss']"
   ]
  },
  {
   "cell_type": "code",
   "execution_count": null,
   "metadata": {
    "collapsed": true
   },
   "outputs": [],
   "source": []
  }
 ],
 "metadata": {
  "celltoolbar": "Slideshow",
  "kernelspec": {
   "display_name": "Python 2",
   "language": "python",
   "name": "python2"
  },
  "language_info": {
   "codemirror_mode": {
    "name": "ipython",
    "version": 2
   },
   "file_extension": ".py",
   "mimetype": "text/x-python",
   "name": "python",
   "nbconvert_exporter": "python",
   "pygments_lexer": "ipython2",
   "version": "2.7.14"
  }
 },
 "nbformat": 4,
 "nbformat_minor": 1
}
